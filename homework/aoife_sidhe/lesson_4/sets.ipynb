{
 "cells": [
  {
   "cell_type": "markdown",
   "source": [
    "# Learning Python Sets\n",
    "\n",
    "\"Set\" is an unordered collection data type that is iterable, mutable, and has no duplicate elements. \n",
    "Python sets are highly useful to efficiently remove duplicate values from a collection like a list and to perform common math \n",
    "operations like unions and intersections."
   ],
   "metadata": {
    "collapsed": false
   },
   "id": "257043018e0e40ab"
  },
  {
   "cell_type": "code",
   "execution_count": 1,
   "outputs": [
    {
     "name": "stdout",
     "output_type": "stream",
     "text": [
      "{1, 2, 4, 5}\n"
     ]
    }
   ],
   "source": [
    "# Defining a set\n",
    "set1 = {1, 2, 4, 4, 5}\n",
    "print(set1) # Output: {1, 2, 4, 5}"
   ],
   "metadata": {
    "collapsed": false,
    "ExecuteTime": {
     "end_time": "2023-12-16T19:03:25.463354300Z",
     "start_time": "2023-12-16T19:03:25.455624300Z"
    }
   },
   "id": "a2423d7cea1dd852"
  },
  {
   "cell_type": "markdown",
   "source": [
    "# Methods and Functionality in Python Sets\n",
    "\n",
    "There are many operations and methods that are specially defined for Python sets. "
   ],
   "metadata": {
    "collapsed": false
   },
   "id": "9c55d94d18088a99"
  },
  {
   "cell_type": "code",
   "execution_count": 2,
   "outputs": [
    {
     "name": "stdout",
     "output_type": "stream",
     "text": [
      "{1, 2, 3, 4}\n",
      "{1, 2, 3}\n",
      "{1, 2, 3, 4, 5}\n",
      "{3}\n"
     ]
    }
   ],
   "source": [
    "# Add elements to a set\n",
    "set1 = {1, 2, 3}\n",
    "set1.add(4)\n",
    "print(set1) # Output: {1, 2, 3, 4}\n",
    "\n",
    "# Remove elements from a set\n",
    "set1.remove(4)\n",
    "print(set1) # Output: {1, 2, 3}\n",
    "\n",
    "# Union of 2 sets\n",
    "set2 = {3, 4, 5}\n",
    "print(set1.union(set2)) # Output: {1, 2, 3, 4, 5}\n",
    "\n",
    "# Intersection of 2 sets\n",
    "print(set1.intersection(set2)) # Output: {3}"
   ],
   "metadata": {
    "collapsed": false,
    "ExecuteTime": {
     "end_time": "2023-12-16T19:03:31.693459600Z",
     "start_time": "2023-12-16T19:03:31.686772300Z"
    }
   },
   "id": "b9135a1348854e37"
  },
  {
   "cell_type": "markdown",
   "source": [
    "# Practical Applications of Python Sets\n",
    "\n",
    "Sets are used in programming when we want to keep track of a collection of elements, but don’t care about their order, don’t want duplicates, and want fast membership tests."
   ],
   "metadata": {
    "collapsed": false
   },
   "id": "a907f6befb1aff13"
  },
  {
   "cell_type": "code",
   "execution_count": 3,
   "outputs": [
    {
     "name": "stdout",
     "output_type": "stream",
     "text": [
      "[1, 2, 3, 4, 5, 6]\n"
     ]
    }
   ],
   "source": [
    "# Removing duplicates from a list\n",
    "list1 = [1, 2, 2, 3, 4, 4, 4, 5, 6, 6, 6, 6]\n",
    "list2 = list(set(list1))\n",
    "print(list2) # Output: [1, 2, 3, 4, 5, 6]"
   ],
   "metadata": {
    "collapsed": false,
    "ExecuteTime": {
     "end_time": "2023-12-16T19:03:59.803044700Z",
     "start_time": "2023-12-16T19:03:59.792772700Z"
    }
   },
   "id": "b0e081d40c3680f5"
  },
  {
   "cell_type": "code",
   "execution_count": 4,
   "outputs": [
    {
     "name": "stdout",
     "output_type": "stream",
     "text": [
      "True\n",
      "False\n"
     ]
    }
   ],
   "source": [
    "# Create a set\n",
    "fruits = {\"apple\", \"banana\", \"cherry\"}\n",
    "\n",
    "# Check if \"apple\" is in the set\n",
    "print(\"apple\" in fruits) # Output: True\n",
    "\n",
    "# Check if \"grape\" is in the set\n",
    "print(\"grape\" in fruits) # Output: False"
   ],
   "metadata": {
    "collapsed": false,
    "ExecuteTime": {
     "end_time": "2023-12-16T19:04:30.170146100Z",
     "start_time": "2023-12-16T19:04:30.166741300Z"
    }
   },
   "id": "d14604a56a9e8615"
  },
  {
   "cell_type": "code",
   "execution_count": null,
   "outputs": [],
   "source": [],
   "metadata": {
    "collapsed": false
   },
   "id": "1deb5c6504503254"
  }
 ],
 "metadata": {
  "kernelspec": {
   "display_name": "Python 3",
   "language": "python",
   "name": "python3"
  },
  "language_info": {
   "codemirror_mode": {
    "name": "ipython",
    "version": 2
   },
   "file_extension": ".py",
   "mimetype": "text/x-python",
   "name": "python",
   "nbconvert_exporter": "python",
   "pygments_lexer": "ipython2",
   "version": "2.7.6"
  }
 },
 "nbformat": 4,
 "nbformat_minor": 5
}
