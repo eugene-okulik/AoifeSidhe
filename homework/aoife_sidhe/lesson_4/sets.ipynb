{
 "cells": [
  {
   "cell_type": "markdown",
   "source": [
    "# Learning Python Sets\n",
    "\n",
    "\"Set\" is an unordered collection data type that is iterable, mutable, and has no duplicate elements. \n",
    "Python sets are highly useful to efficiently remove duplicate values from a collection like a list and to perform common math \n",
    "operations like unions and intersections."
   ],
   "metadata": {
    "collapsed": false
   },
   "id": "257043018e0e40ab"
  },
  {
   "cell_type": "code",
   "execution_count": 1,
   "outputs": [
    {
     "name": "stdout",
     "output_type": "stream",
     "text": [
      "{1, 2, 4, 5}\n"
     ]
    }
   ],
   "source": [
    "# Defining a set\n",
    "set1 = {1, 2, 4, 4, 5}\n",
    "print(set1) # Output: {1, 2, 4, 5}"
   ],
   "metadata": {
    "collapsed": false,
    "ExecuteTime": {
     "end_time": "2023-12-16T19:03:25.463354300Z",
     "start_time": "2023-12-16T19:03:25.455624300Z"
    }
   },
   "id": "a2423d7cea1dd852"
  },
  {
   "cell_type": "markdown",
   "source": [
    "# Methods and Functionality in Python Sets\n",
    "\n",
    "There are many operations and methods that are specially defined for Python sets. "
   ],
   "metadata": {
    "collapsed": false
   },
   "id": "9c55d94d18088a99"
  },
  {
   "cell_type": "code",
   "execution_count": 2,
   "outputs": [
    {
     "name": "stdout",
     "output_type": "stream",
     "text": [
      "{1, 2, 3, 4}\n",
      "{1, 2, 3}\n",
      "{1, 2, 3, 4, 5}\n",
      "{3}\n"
     ]
    }
   ],
   "source": [
    "# Add elements to a set\n",
    "set1 = {1, 2, 3}\n",
    "set1.add(4)\n",
    "print(set1) # Output: {1, 2, 3, 4}\n",
    "\n",
    "# Remove elements from a set\n",
    "set1.remove(4)\n",
    "print(set1) # Output: {1, 2, 3}\n",
    "\n",
    "# Union of 2 sets\n",
    "set2 = {3, 4, 5}\n",
    "print(set1.union(set2)) # Output: {1, 2, 3, 4, 5}\n",
    "\n",
    "# Intersection of 2 sets\n",
    "print(set1.intersection(set2)) # Output: {3}"
   ],
   "metadata": {
    "collapsed": false,
    "ExecuteTime": {
     "end_time": "2023-12-16T19:03:31.693459600Z",
     "start_time": "2023-12-16T19:03:31.686772300Z"
    }
   },
   "id": "b9135a1348854e37"
  },
  {
   "cell_type": "markdown",
   "source": [
    "# Practical Applications of Python Sets\n",
    "\n",
    "Sets are used in programming when we want to keep track of a collection of elements, but don’t care about their order, don’t want duplicates, and want fast membership tests."
   ],
   "metadata": {
    "collapsed": false
   },
   "id": "a907f6befb1aff13"
  },
  {
   "cell_type": "code",
   "execution_count": 3,
   "outputs": [
    {
     "name": "stdout",
     "output_type": "stream",
     "text": [
      "[1, 2, 3, 4, 5, 6]\n"
     ]
    }
   ],
   "source": [
    "# Removing duplicates from a list\n",
    "list1 = [1, 2, 2, 3, 4, 4, 4, 5, 6, 6, 6, 6]\n",
    "list2 = list(set(list1))\n",
    "print(list2) # Output: [1, 2, 3, 4, 5, 6]"
   ],
   "metadata": {
    "collapsed": false,
    "ExecuteTime": {
     "end_time": "2023-12-16T19:03:59.803044700Z",
     "start_time": "2023-12-16T19:03:59.792772700Z"
    }
   },
   "id": "b0e081d40c3680f5"
  },
  {
   "cell_type": "code",
   "execution_count": 4,
   "outputs": [
    {
     "name": "stdout",
     "output_type": "stream",
     "text": [
      "True\n",
      "False\n"
     ]
    }
   ],
   "source": [
    "# Create a set\n",
    "fruits = {\"apple\", \"banana\", \"cherry\"}\n",
    "\n",
    "# Check if \"apple\" is in the set\n",
    "print(\"apple\" in fruits) # Output: True\n",
    "\n",
    "# Check if \"grape\" is in the set\n",
    "print(\"grape\" in fruits) # Output: False"
   ],
   "metadata": {
    "collapsed": false,
    "ExecuteTime": {
     "end_time": "2023-12-16T19:04:30.170146100Z",
     "start_time": "2023-12-16T19:04:30.166741300Z"
    }
   },
   "id": "d14604a56a9e8615"
  },
  {
   "cell_type": "markdown",
   "source": [
    "The discard method is a built-in function in Python that is primarily used with Set data structure which is used to delete an element if it is present in the Set. If the item is not found in the set, then no error or exception is raised and the original set is returned."
   ],
   "metadata": {
    "collapsed": false
   },
   "id": "7508c3b2d17f3b77"
  },
  {
   "cell_type": "code",
   "execution_count": 1,
   "outputs": [
    {
     "name": "stdout",
     "output_type": "stream",
     "text": [
      "{1, 2, 4, 5}\n"
     ]
    }
   ],
   "source": [
    "# Starting set\n",
    "set1 = {1, 2, 3, 4, 5}\n",
    "\n",
    "# Discarding '3' from the set\n",
    "set1.discard(3)\n",
    "set1.discard(23)\n",
    "print(set1)\n",
    "# Output: {1, 2, 4, 5}"
   ],
   "metadata": {
    "collapsed": false,
    "ExecuteTime": {
     "end_time": "2023-12-16T20:42:24.620011700Z",
     "start_time": "2023-12-16T20:42:24.614912700Z"
    }
   },
   "id": "ea4b958a2b1f75cc"
  },
  {
   "cell_type": "markdown",
   "source": [
    "The difference() method in Python returns a set that contains the difference between two sets. The returned set contains items that exist only in the first set, and not in both sets."
   ],
   "metadata": {
    "collapsed": false
   },
   "id": "6ec6fa31e4bcda8e"
  },
  {
   "cell_type": "code",
   "execution_count": null,
   "outputs": [],
   "source": [
    "s1 = {1, 2, 3, 4, 5}\n",
    "s2 = {4, 5, 6, 7, 8}\n",
    "\n",
    "diff = s1.difference(s2)\n",
    "print(diff)  # Output: {1, 2, 3}"
   ],
   "metadata": {
    "collapsed": false
   },
   "id": "50eacf099e2cafbb"
  },
  {
   "cell_type": "markdown",
   "source": [
    "The symmetric_difference() method in Python returns a set that contains all items from both sets, but not the intersection. The returned set contains items that exist only in either set, but not in both."
   ],
   "metadata": {
    "collapsed": false
   },
   "id": "4e9673a79e919590"
  },
  {
   "cell_type": "code",
   "execution_count": 2,
   "outputs": [
    {
     "name": "stdout",
     "output_type": "stream",
     "text": [
      "{1, 2, 3, 6, 7, 8}\n"
     ]
    }
   ],
   "source": [
    "s1 = {1, 2, 3, 4, 5}\n",
    "s2 = {4, 5, 6, 7, 8}\n",
    "\n",
    "sym_diff = s1.symmetric_difference(s2)\n",
    "print(sym_diff)  # Output: {1, 2, 3, 6, 7, 8}"
   ],
   "metadata": {
    "collapsed": false,
    "ExecuteTime": {
     "end_time": "2023-12-16T20:45:06.575870900Z",
     "start_time": "2023-12-16T20:45:06.568362600Z"
    }
   },
   "id": "913ed15d4e74681d"
  },
  {
   "cell_type": "markdown",
   "source": [
    "{expression for item in iterable}"
   ],
   "metadata": {
    "collapsed": false
   },
   "id": "111b454bd72eb1fa"
  },
  {
   "cell_type": "code",
   "execution_count": 3,
   "outputs": [
    {
     "name": "stdout",
     "output_type": "stream",
     "text": [
      "{1, 4, 36, 9, 16, 25}\n"
     ]
    }
   ],
   "source": [
    "numbers = [1, 2, 2, 3, 4, 4, 4, 5, 6, 6, 6, 6]\n",
    "unique_squares = {n**2 for n in numbers}\n",
    "print(unique_squares)  "
   ],
   "metadata": {
    "collapsed": false,
    "ExecuteTime": {
     "end_time": "2023-12-16T20:47:09.415205Z",
     "start_time": "2023-12-16T20:47:09.405622Z"
    }
   },
   "id": "d4f2bfa5d5c1675f"
  },
  {
   "cell_type": "code",
   "execution_count": 8,
   "outputs": [
    {
     "name": "stdout",
     "output_type": "stream",
     "text": [
      "{64, 100, 4, 36, 16}\n",
      "[4, 16, 36, 64, 100]\n"
     ]
    }
   ],
   "source": [
    "numbers = range(1, 11)\n",
    "even_squares = {n**2 for n in numbers if n % 2 == 0}\n",
    "print(even_squares)  # Output: {64, 4, 36, 16}\n",
    "# Convert set to list and sort it\n",
    "sorted_squares = sorted(list(even_squares))\n",
    "print(sorted_squares)"
   ],
   "metadata": {
    "collapsed": false,
    "ExecuteTime": {
     "end_time": "2023-12-16T20:50:51.741244300Z",
     "start_time": "2023-12-16T20:50:51.738734500Z"
    }
   },
   "id": "5cbf4e2ab2520bef"
  },
  {
   "cell_type": "code",
   "execution_count": null,
   "outputs": [],
   "source": [],
   "metadata": {
    "collapsed": false
   },
   "id": "6b011b33f5ecb8d7"
  }
 ],
 "metadata": {
  "kernelspec": {
   "display_name": "Python 3",
   "language": "python",
   "name": "python3"
  },
  "language_info": {
   "codemirror_mode": {
    "name": "ipython",
    "version": 2
   },
   "file_extension": ".py",
   "mimetype": "text/x-python",
   "name": "python",
   "nbconvert_exporter": "python",
   "pygments_lexer": "ipython2",
   "version": "2.7.6"
  }
 },
 "nbformat": 4,
 "nbformat_minor": 5
}
