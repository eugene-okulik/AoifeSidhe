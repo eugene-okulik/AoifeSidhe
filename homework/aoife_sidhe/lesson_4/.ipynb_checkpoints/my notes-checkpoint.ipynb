{
 "cells": [
  {
   "cell_type": "markdown",
   "source": [
    "Lists"
   ],
   "metadata": {
    "collapsed": false
   },
   "id": "eff0cf7865482a2c"
  },
  {
   "cell_type": "markdown",
   "source": [
    "ADD"
   ],
   "metadata": {
    "collapsed": false
   },
   "id": "e6e1c489dde57193"
  },
  {
   "cell_type": "markdown",
   "source": [
    "append(): Adds an element at the end of the list."
   ],
   "metadata": {
    "collapsed": false
   },
   "id": "2f176e8479f635ac"
  },
  {
   "cell_type": "code",
   "execution_count": null,
   "outputs": [],
   "source": [
    "my_list = ['a', 'b', 'c'] my_list.append('d') \n",
    "print(my_list) # ['a', 'b', 'c', 'd']"
   ],
   "metadata": {
    "collapsed": false
   },
   "id": "d2c70264176e874"
  },
  {
   "cell_type": "markdown",
   "source": [
    "insert(): Adds an element at a specified position in the list."
   ],
   "metadata": {
    "collapsed": false
   },
   "id": "922f2a0a1cb90e66"
  },
  {
   "cell_type": "code",
   "execution_count": null,
   "outputs": [],
   "source": [
    "my_list = ['a', 'b', 'd'] my_list.insert(2, 'c') # Insert 'c' at index 2\n",
    "print(my_list) # ['a', 'b', 'c', 'd'] "
   ],
   "metadata": {
    "collapsed": false
   },
   "id": "1c6e8d6faf0abad"
  },
  {
   "cell_type": "markdown",
   "source": [
    "extend(): Adds multiple elements at the end of the list (concatenate lists)."
   ],
   "metadata": {
    "collapsed": false
   },
   "id": "41aa5904cc99933c"
  },
  {
   "cell_type": "code",
   "execution_count": null,
   "outputs": [],
   "source": [
    "my_list = ['a', 'b'] my_list.extend(['c', 'd']) \n",
    "print(my_list)"
   ],
   "metadata": {
    "collapsed": false
   },
   "id": "932caf3e1d67a332"
  },
  {
   "cell_type": "markdown",
   "source": [
    "DELETE"
   ],
   "metadata": {
    "collapsed": false
   },
   "id": "f2c940e0bcd55a92"
  },
  {
   "cell_type": "markdown",
   "source": [
    "remove(): Removes an item with the specified value from the list."
   ],
   "metadata": {
    "collapsed": false
   },
   "id": "31ccf2da18ccabc1"
  },
  {
   "cell_type": "code",
   "execution_count": null,
   "outputs": [],
   "source": [
    "my_list = ['a', 'b', 'c', 'd'] \n",
    "my_list.remove('b') \n",
    "print(my_list) "
   ],
   "metadata": {
    "collapsed": false
   },
   "id": "c39687f46615579e"
  },
  {
   "cell_type": "markdown",
   "source": [
    "pop(): Removes an item from the list at a specified index, and return this item."
   ],
   "metadata": {
    "collapsed": false
   },
   "id": "3e35af152e3a2317"
  },
  {
   "cell_type": "code",
   "execution_count": null,
   "outputs": [],
   "source": [
    "my_list = ['a', 'b', 'c', 'd'] \n",
    "item = my_list.pop(1) \n",
    "print(item)\n",
    "print(my_list)"
   ],
   "metadata": {
    "collapsed": false
   },
   "id": "e45242a48021fc89"
  },
  {
   "cell_type": "markdown",
   "source": [
    "del: This keyword in python is used to delete part of the list"
   ],
   "metadata": {
    "collapsed": false
   },
   "id": "df08b8278ae58eb4"
  },
  {
   "cell_type": "code",
   "execution_count": null,
   "outputs": [],
   "source": [
    "my_list = ['a', 'b', 'c', 'd'] \n",
    "del my_list[1] # Remove the item at index 1\n",
    "print(my_list) # ['a', 'c', 'd'] "
   ],
   "metadata": {
    "collapsed": false
   },
   "id": "dc91aa9543ba82d9"
  },
  {
   "cell_type": "markdown",
   "source": [
    "To delete an entire list in Python, we can use the del statement as follows:"
   ],
   "metadata": {
    "collapsed": false
   },
   "id": "46d82353213fa39d"
  },
  {
   "cell_type": "code",
   "execution_count": null,
   "outputs": [],
   "source": [
    "my_list = ['a', 'b', 'c', 'd']\n",
    "del my_list"
   ],
   "metadata": {
    "collapsed": false
   },
   "id": "3116d51f42e0c48"
  },
  {
   "cell_type": "markdown",
   "source": [
    "If we want to keep the list but just remove all the elements from it (so it becomes an empty list),\n",
    "we can use the clear() method:"
   ],
   "metadata": {
    "collapsed": false
   },
   "id": "c77fae046b35dc73"
  },
  {
   "cell_type": "code",
   "execution_count": null,
   "outputs": [],
   "source": [
    "my_list = ['a', 'b', 'c', 'd']\n",
    "my_list.clear()\n",
    "print(my_list) "
   ],
   "metadata": {
    "collapsed": false,
    "is_executing": true
   },
   "id": "7b25c3cedb69ad4a"
  },
  {
   "cell_type": "code",
   "execution_count": null,
   "outputs": [],
   "source": [],
   "metadata": {
    "collapsed": false
   },
   "id": "1edaa2bc0037f4a4"
  }
 ],
 "metadata": {
  "kernelspec": {
   "display_name": "Python 3",
   "language": "python",
   "name": "python3"
  },
  "language_info": {
   "codemirror_mode": {
    "name": "ipython",
    "version": 2
   },
   "file_extension": ".py",
   "mimetype": "text/x-python",
   "name": "python",
   "nbconvert_exporter": "python",
   "pygments_lexer": "ipython2",
   "version": "2.7.6"
  }
 },
 "nbformat": 4,
 "nbformat_minor": 5
}
