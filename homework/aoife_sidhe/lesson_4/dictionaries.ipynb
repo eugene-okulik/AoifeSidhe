{
 "cells": [
  {
   "cell_type": "markdown",
   "source": [
    "# Python Dictionaries\n",
    "\n",
    "Dictionaries are a built-in data type in Python that can store data in key-value pairs.\n",
    "\n",
    "Features of dictionaries:\n",
    "\n",
    "1. **Ordered** - As of Python ver 3.7, dictionaries are ordered. In other words, the order in which items are added to a dictionary is remembered and will be maintained.\n",
    " \n",
    "2. **Changeable** - Dictionaries are mutable data structures, meaning that we can change, add or remove items after the dictionary is created.\n",
    "\n",
    "3. **Indexed** - Dictionaries are indexed by keys, and these keys can be used to access values within a dictionary.\n",
    "\n",
    "Let's look at ways to define and use dictionaries:"
   ],
   "metadata": {
    "collapsed": false
   },
   "id": "b651ac20d241f26f"
  },
  {
   "cell_type": "code",
   "execution_count": 4,
   "outputs": [
    {
     "name": "stdout",
     "output_type": "stream",
     "text": [
      "{'name': 'apple', 'color': 'red', 'type': 'fruit'}\n",
      "apple\n",
      "{'name': 'apple', 'color': 'red', 'type': 'fruit', 'taste': 'sweet'}\n",
      "{'name': 'apple', 'color': 'green', 'type': 'fruit', 'taste': 'sweet'}\n"
     ]
    }
   ],
   "source": [
    "# Defining a dictionary\n",
    "fruit_dict = {\"name\": \"apple\", \"color\": \"red\", \"type\": \"fruit\"}\n",
    "print(fruit_dict)\n",
    "\n",
    "# Accessing elements in a dictionary\n",
    "fruit_name = fruit_dict[\"name\"]\n",
    "print(fruit_name)  \n",
    "\n",
    "# Adding a new key-value pair to the dictionary \n",
    "fruit_dict[\"taste\"] = \"sweet\"\n",
    "print(fruit_dict)  \n",
    "\n",
    "# Changing the value of an existing key\n",
    "fruit_dict[\"color\"] = \"green\"\n",
    "print(fruit_dict)  "
   ],
   "metadata": {
    "collapsed": true,
    "ExecuteTime": {
     "end_time": "2023-12-16T19:21:50.805523500Z",
     "start_time": "2023-12-16T19:21:50.796980400Z"
    }
   },
   "id": "initial_id"
  },
  {
   "cell_type": "markdown",
   "source": [
    "If we try to access a key that does not exist, Python will raise a KeyError.\n",
    "What can we do?"
   ],
   "metadata": {
    "collapsed": false
   },
   "id": "44081809f4e07c28"
  },
  {
   "cell_type": "markdown",
   "source": [
    "the get() method: \n",
    "This method returns the value for the given key, if present in the dictionary. If not, it returns a default value. Here is an example:"
   ],
   "metadata": {
    "collapsed": false
   },
   "id": "474fe11eeff802d6"
  },
  {
   "cell_type": "code",
   "execution_count": null,
   "outputs": [],
   "source": [
    "my_dict = {'name': 'John'}\n",
    "print(my_dict.get('age'))  # This will return None because 'age' is not in my_dict\n",
    "print(my_dict.get('age', 'default_value'))  # This will return 'default_value' because 'age' is not in my_dict"
   ],
   "metadata": {
    "collapsed": false
   },
   "id": "b6e3f0c5fd1a1f7"
  },
  {
   "cell_type": "markdown",
   "source": [
    "Use the in keyword: Before accessing the key, check if it exists in the dictionary or not."
   ],
   "metadata": {
    "collapsed": false
   },
   "id": "ad97bbb7396d2936"
  },
  {
   "cell_type": "code",
   "execution_count": null,
   "outputs": [],
   "source": [
    "my_dict = {'name': 'John'}\n",
    "if 'age' in my_dict:\n",
    "    print(my_dict['age'])\n",
    "else:\n",
    "    print(0)"
   ],
   "metadata": {
    "collapsed": false
   },
   "id": "d87a5989c1811e87"
  },
  {
   "cell_type": "markdown",
   "source": [
    "Use Exception Handling: You can prevent the program from stopping abruptly by using a try/except block."
   ],
   "metadata": {
    "collapsed": false
   },
   "id": "7a65ca4a2617230a"
  },
  {
   "cell_type": "code",
   "execution_count": null,
   "outputs": [],
   "source": [
    "my_dict = {'name': 'John'}\n",
    "try:\n",
    "    print(my_dict['age'])\n",
    "except KeyError:\n",
    "    print('Key not found in dictionary')"
   ],
   "metadata": {
    "collapsed": false
   },
   "id": "b48772cf8cf667ce"
  },
  {
   "cell_type": "markdown",
   "source": [
    "We can add a new key-value pair or change the value of an existing key using an assignment operator."
   ],
   "metadata": {
    "collapsed": false
   },
   "id": "3a7af4ca2b9f1f40"
  },
  {
   "cell_type": "code",
   "execution_count": null,
   "outputs": [],
   "source": [
    "# adding or modifying elements\n",
    "my_dict['grade'] = 'A'\n",
    "print(my_dict)\n",
    "# Output: {'name': 'John', 'age': 16, 'grade': 'A'}"
   ],
   "metadata": {
    "collapsed": false
   },
   "id": "73f56d32ceb787c0"
  },
  {
   "cell_type": "markdown",
   "source": [
    "If we try to change the value of a non-existing key in a Python dictionary, it won't throw an error. Instead, Python will add this new key-value pair to the dictionary."
   ],
   "metadata": {
    "collapsed": false
   },
   "id": "2fee4398fb46838c"
  },
  {
   "cell_type": "code",
   "execution_count": 1,
   "outputs": [
    {
     "name": "stdout",
     "output_type": "stream",
     "text": [
      "{'name': 'John', 'age': 30}\n",
      "{'name': 'John', 'age': 30, 'address': 'New York'}\n"
     ]
    }
   ],
   "source": [
    "# Initial Dictionary\n",
    "my_dict = {\"name\": \"John\", \"age\": 30}\n",
    "print(my_dict)  # Output: {\"name\": \"John\", \"age\": 30}\n",
    "\n",
    "# Attempting to change the value of a non-existing key \"address\"\n",
    "my_dict[\"address\"] = \"New York\"\n",
    "print(my_dict)  # Output: {\"name\": \"John\", \"age\": 30, \"address\": \"New York\"}"
   ],
   "metadata": {
    "collapsed": false,
    "ExecuteTime": {
     "end_time": "2023-12-16T19:11:53.196604400Z",
     "start_time": "2023-12-16T19:11:53.186468700Z"
    }
   },
   "id": "ab78a44a3a832fa7"
  },
  {
   "cell_type": "code",
   "execution_count": 3,
   "outputs": [
    {
     "name": "stdout",
     "output_type": "stream",
     "text": [
      "Key \"address\" does not exist in dictionary. No change was made.\n"
     ]
    }
   ],
   "source": [
    "my_dict = {\"name\": \"John\", \"age\": 30}\n",
    "\n",
    "key_to_change = \"address\"\n",
    "new_value = \"New York\"\n",
    "\n",
    "if key_to_change in my_dict:\n",
    "    my_dict[key_to_change] = new_value\n",
    "    print(f'Key \"{key_to_change}\" was updated. Dictionary now is: {my_dict}')\n",
    "else:\n",
    "    print(f'Key \"{key_to_change}\" does not exist in dictionary. No change was made.')"
   ],
   "metadata": {
    "collapsed": false,
    "ExecuteTime": {
     "end_time": "2023-12-16T19:12:39.381845Z",
     "start_time": "2023-12-16T19:12:39.370337Z"
    }
   },
   "id": "435a31f27d731b74"
  },
  {
   "cell_type": "markdown",
   "source": [
    "We can remove a particular item in a dictionary by using the del keyword. Or pop()\n",
    "The pop() method removes an item with the provided key and returns the value."
   ],
   "metadata": {
    "collapsed": false
   },
   "id": "f37bbd40fbba40c4"
  },
  {
   "cell_type": "code",
   "execution_count": null,
   "outputs": [],
   "source": [
    "my_dict = {'name': 'John', 'age': 16, 'grade': 'A'}\n",
    "# removing elements\n",
    "del my_dict['age']\n",
    "print(my_dict)\n",
    "# Output: {'name': 'John', 'grade': 'A'}\n",
    "grade = my_dict.pop('grade')\n",
    "print(grade)\n",
    "print(my_dict)"
   ],
   "metadata": {
    "collapsed": false
   },
   "id": "e03c264cb876e7af"
  },
  {
   "cell_type": "code",
   "execution_count": null,
   "outputs": [],
   "source": [
    "my_dict = {'name': 'John', 'age': 17}\n",
    "key_to_delete = 'grade'\n",
    "\n",
    "if key_to_delete in my_dict:\n",
    "    del my_dict[key_to_delete]\n",
    "else:\n",
    "    print(f\"The key '{key_to_delete}' does not exist in the dictionary.\")"
   ],
   "metadata": {
    "collapsed": false
   },
   "id": "58c91b686c29a43c"
  },
  {
   "cell_type": "code",
   "execution_count": null,
   "outputs": [],
   "source": [
    "my_dict = {'name': 'John', 'age': 17}\n",
    "key_to_delete = 'grade'\n",
    "\n",
    "# This will not raise an error even if 'grade' is not in my_dict.\n",
    "my_dict.pop(key_to_delete, None)\n",
    "print(my_dict)"
   ],
   "metadata": {
    "collapsed": false
   },
   "id": "f8540eb271d5f23a"
  },
  {
   "cell_type": "markdown",
   "source": [
    "Some useful dictionary methods are clear(), copy(), get(), items(), keys(), values()"
   ],
   "metadata": {
    "collapsed": false
   },
   "id": "c438847178f1321c"
  },
  {
   "cell_type": "code",
   "execution_count": null,
   "outputs": [],
   "source": [
    "dog = {\n",
    "    'name': 'Rex',\n",
    "    'breed': 'Labrador',\n",
    "    'age': 2\n",
    "}\n",
    "\n",
    "print(dog)\n",
    "print()\n",
    "\n",
    "# clear() : Removes all the elements from the dictionary\n",
    "print(\"Clear\")\n",
    "copy_dog = dog.copy()  # Make a copy of the dictionary before clearing it\n",
    "copy_dog.clear()\n",
    "print(copy_dog)  # Outputs: {}\n",
    "\n",
    "print()\n",
    "print('Copy')\n",
    "# copy() : Returns a copy of the dictionary\n",
    "cloned_dog = dog.copy()\n",
    "print(cloned_dog) # Outputs: {'name': 'Rex', 'breed': 'Labrador', 'age': 2}\n",
    "\n",
    "print()\n",
    "print ('Get')\n",
    "# get(key) : Returns the value for key if key is in the dictionary, else None\n",
    "print(dog.get('name')) # Outputs: Rex\n",
    "\n",
    "print()\n",
    "print(\"Items\")\n",
    "# items() : Returns a new object of the dictionary's items in (key, value) format\n",
    "print(dog.items()) # Outputs: dict_items([('name', 'Rex'), ('breed', 'Labrador'), ('age', 2)])\n",
    "\n",
    "print()\n",
    "print('Keys') \n",
    "# keys() : Returns a new object of the dictionary's keys\n",
    "print(dog.keys()) # Outputs: dict_keys(['name', 'breed', 'age'])\n",
    "\n",
    "print()\n",
    "print('Values') \n",
    "# values() : Returns a new object of the dictionary's values\n",
    "print(dog.values()) # Outputs: dict_values(['Rex', 'Labrador', 2])"
   ],
   "metadata": {
    "collapsed": false
   },
   "id": "68c0c88075242e1b"
  },
  {
   "cell_type": "markdown",
   "source": [
    "Simple script"
   ],
   "metadata": {
    "collapsed": false
   },
   "id": "7808bc45968871df"
  },
  {
   "cell_type": "code",
   "execution_count": null,
   "outputs": [],
   "source": [
    "dogs = [\n",
    "    {'name': 'Rex', 'breed': 'Labrador', 'age': 2},\n",
    "    {'name': 'Fido', 'breed': 'Bulldog', 'age': 5},\n",
    "    {'name': 'Max', 'breed': 'German Shepherd', 'age': 3},\n",
    "    {'name': 'Charlie', 'breed': 'Golden Retriever', 'age': 7}\n",
    "]\n",
    "\n",
    "for dog in dogs:\n",
    "    print(dog.get('breed'))\n",
    "    \n",
    "older_dogs = len([dog for dog in dogs if dog['age'] > 3])\n",
    "print(f'\\nolder dogs - {older_dogs}')"
   ],
   "metadata": {
    "collapsed": false
   },
   "id": "a80f7e068ac188"
  }
 ],
 "metadata": {
  "kernelspec": {
   "display_name": "Python 3",
   "language": "python",
   "name": "python3"
  },
  "language_info": {
   "codemirror_mode": {
    "name": "ipython",
    "version": 2
   },
   "file_extension": ".py",
   "mimetype": "text/x-python",
   "name": "python",
   "nbconvert_exporter": "python",
   "pygments_lexer": "ipython2",
   "version": "2.7.6"
  }
 },
 "nbformat": 4,
 "nbformat_minor": 5
}
