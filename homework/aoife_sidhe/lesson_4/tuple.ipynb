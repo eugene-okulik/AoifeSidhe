{
 "cells": [
  {
   "cell_type": "markdown",
   "source": [
    "# Python Tuples\n",
    "\n",
    "Tuples are a built-in data type in Python that can store multiple items in a single variable.\n",
    "\n",
    "Features of tuples:\n",
    "\n",
    "1. **Ordered** - When we say that tuples are ordered, it means that the items have a defined order, and that order will not change.\n",
    "\n",
    "2. **Unchangeable** - Tuples are unchangeable, or immutable meaning that we cannot change, add or remove items after the tuple is created.\n",
    "\n",
    "Let's look at ways to define and use tuples:"
   ],
   "metadata": {
    "collapsed": false
   },
   "id": "6873a143154ed675"
  },
  {
   "cell_type": "code",
   "execution_count": null,
   "outputs": [],
   "source": [
    "# Defining a tuple\n",
    "fruit_tuple = (\"apple\", \"banana\", \"cherry\")\n",
    "print(fruit_tuple)\n",
    "\n",
    "# Accessing elements in a tuple\n",
    "first_fruit = fruit_tuple[0]\n",
    "print(first_fruit)  # Output: apple"
   ],
   "metadata": {
    "collapsed": false
   },
   "id": "9ab665e8277faf94"
  },
  {
   "cell_type": "markdown",
   "source": [
    "We can access individual elements in a tuple using indexing. Index in Python starts from 0."
   ],
   "metadata": {
    "collapsed": false
   },
   "id": "c723b248aeece098"
  },
  {
   "cell_type": "code",
   "execution_count": 2,
   "outputs": [
    {
     "name": "stdout",
     "output_type": "stream",
     "text": [
      "2\n"
     ]
    }
   ],
   "source": [
    "my_tuple = (1, 2, 3)\n",
    "print(my_tuple[1])  # Output: 2"
   ],
   "metadata": {
    "collapsed": false,
    "ExecuteTime": {
     "end_time": "2023-12-16T19:07:40.004394100Z",
     "start_time": "2023-12-16T19:07:40.001884800Z"
    }
   },
   "id": "7ff3492bbd726676"
  },
  {
   "cell_type": "markdown",
   "source": [
    "Tuple unpacking allows to assign each item in an iterable (often a tuple) to a variable."
   ],
   "metadata": {
    "collapsed": false
   },
   "id": "70f5361648bdd7bd"
  },
  {
   "cell_type": "code",
   "execution_count": 3,
   "outputs": [
    {
     "name": "stdout",
     "output_type": "stream",
     "text": [
      "1\n",
      "2\n",
      "3\n"
     ]
    }
   ],
   "source": [
    "my_tuple = (1, 2, 3)\n",
    "a, b, c = my_tuple\n",
    "print(a)  # Output: 1\n",
    "print(b)  # Output: 2\n",
    "print(c)  # Output: 3"
   ],
   "metadata": {
    "collapsed": false,
    "ExecuteTime": {
     "end_time": "2023-12-16T19:07:40.010399800Z",
     "start_time": "2023-12-16T19:07:40.005394100Z"
    }
   },
   "id": "c2c6a6f22d8d04a8"
  },
  {
   "cell_type": "markdown",
   "source": [
    "\n",
    "Unlike lists, tuples are immutable. This means that elements of a tuple cannot be changed once they have been assigned."
   ],
   "metadata": {
    "collapsed": false
   },
   "id": "1b788eb27a537d22"
  },
  {
   "cell_type": "code",
   "execution_count": 4,
   "outputs": [
    {
     "ename": "TypeError",
     "evalue": "'tuple' object does not support item assignment",
     "output_type": "error",
     "traceback": [
      "\u001B[1;31m---------------------------------------------------------------------------\u001B[0m",
      "\u001B[1;31mTypeError\u001B[0m                                 Traceback (most recent call last)",
      "Cell \u001B[1;32mIn[4], line 2\u001B[0m\n\u001B[0;32m      1\u001B[0m my_tuple \u001B[38;5;241m=\u001B[39m (\u001B[38;5;241m1\u001B[39m, \u001B[38;5;241m2\u001B[39m, \u001B[38;5;241m3\u001B[39m)\n\u001B[1;32m----> 2\u001B[0m \u001B[43mmy_tuple\u001B[49m\u001B[43m[\u001B[49m\u001B[38;5;241;43m1\u001B[39;49m\u001B[43m]\u001B[49m \u001B[38;5;241m=\u001B[39m \u001B[38;5;241m5\u001B[39m  \u001B[38;5;66;03m# This will raise an error\u001B[39;00m\n",
      "\u001B[1;31mTypeError\u001B[0m: 'tuple' object does not support item assignment"
     ]
    }
   ],
   "source": [
    "my_tuple = (1, 2, 3)\n",
    "my_tuple[1] = 5  # This will raise an error"
   ],
   "metadata": {
    "collapsed": false,
    "ExecuteTime": {
     "end_time": "2023-12-16T19:07:40.609386400Z",
     "start_time": "2023-12-16T19:07:40.425577800Z"
    }
   },
   "id": "3f47b5af6365169"
  },
  {
   "cell_type": "markdown",
   "source": [
    "We can iterate over each item in a tuple using a for loop."
   ],
   "metadata": {
    "collapsed": false
   },
   "id": "4308ffad42ae5632"
  },
  {
   "cell_type": "code",
   "execution_count": 5,
   "outputs": [
    {
     "name": "stdout",
     "output_type": "stream",
     "text": [
      "1\n",
      "2\n",
      "3\n"
     ]
    }
   ],
   "source": [
    "my_tuple = (1, 2, 3)\n",
    "for item in my_tuple:\n",
    "    print(item)"
   ],
   "metadata": {
    "collapsed": false,
    "ExecuteTime": {
     "end_time": "2023-12-16T19:07:41.862595500Z",
     "start_time": "2023-12-16T19:07:41.856324800Z"
    }
   },
   "id": "88fbb93041205ee4"
  },
  {
   "cell_type": "markdown",
   "source": [
    "We can find the total number of items in a tuple by using the len() function."
   ],
   "metadata": {
    "collapsed": false
   },
   "id": "38855a0c5a462984"
  },
  {
   "cell_type": "code",
   "execution_count": 6,
   "outputs": [
    {
     "name": "stdout",
     "output_type": "stream",
     "text": [
      "3\n"
     ]
    }
   ],
   "source": [
    "my_tuple = (1, 2, 3)\n",
    "print(len(my_tuple))  # Output: 3"
   ],
   "metadata": {
    "collapsed": false,
    "ExecuteTime": {
     "end_time": "2023-12-16T19:07:43.076677Z",
     "start_time": "2023-12-16T19:07:43.070460500Z"
    }
   },
   "id": "bc9b3b9dde6fd8c"
  },
  {
   "cell_type": "markdown",
   "source": [
    "Count - count() method in Python is used to count the number of occurrences of a particular element in the tuple."
   ],
   "metadata": {
    "collapsed": false
   },
   "id": "fe86ea6a0489584e"
  },
  {
   "cell_type": "code",
   "execution_count": 7,
   "outputs": [
    {
     "name": "stdout",
     "output_type": "stream",
     "text": [
      "4\n"
     ]
    }
   ],
   "source": [
    "my_tuple = (1, 2, 3, 2, 3, 2, 2, 43)\n",
    "print(my_tuple.count(2))"
   ],
   "metadata": {
    "collapsed": false,
    "ExecuteTime": {
     "end_time": "2023-12-16T19:07:44.243852600Z",
     "start_time": "2023-12-16T19:07:44.239344Z"
    }
   },
   "id": "fb35d006f323b0fb"
  },
  {
   "cell_type": "markdown",
   "source": [
    "Index - index() method in Python is used to find the first occurrence of a particular element in the tuple. \n",
    "It returns the index of the element"
   ],
   "metadata": {
    "collapsed": false
   },
   "id": "a19a91412684648d"
  },
  {
   "cell_type": "code",
   "execution_count": 8,
   "outputs": [
    {
     "name": "stdout",
     "output_type": "stream",
     "text": [
      "2\n"
     ]
    }
   ],
   "source": [
    "my_tuple = (1, 2, 3, 2, 3, 2, 2, 43)\n",
    "print(my_tuple.index(3)) "
   ],
   "metadata": {
    "collapsed": false,
    "ExecuteTime": {
     "end_time": "2023-12-16T19:07:45.492555200Z",
     "start_time": "2023-12-16T19:07:45.485042600Z"
    }
   },
   "id": "fe29d4b61219fa70"
  },
  {
   "cell_type": "code",
   "execution_count": null,
   "outputs": [],
   "source": [],
   "metadata": {
    "collapsed": false
   },
   "id": "1df62976c6b737ae"
  }
 ],
 "metadata": {
  "kernelspec": {
   "display_name": "Python 3",
   "language": "python",
   "name": "python3"
  },
  "language_info": {
   "codemirror_mode": {
    "name": "ipython",
    "version": 2
   },
   "file_extension": ".py",
   "mimetype": "text/x-python",
   "name": "python",
   "nbconvert_exporter": "python",
   "pygments_lexer": "ipython2",
   "version": "2.7.6"
  }
 },
 "nbformat": 4,
 "nbformat_minor": 5
}
