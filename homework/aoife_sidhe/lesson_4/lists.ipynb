{
 "cells": [
  {
   "cell_type": "markdown",
   "id": "eff0cf7865482a2c",
   "metadata": {
    "collapsed": false
   },
   "source": [
    "# Python Lists\n",
    "\n",
    "Lists are a built-in data type in Python that can store multiple items in a single variable.\n",
    "\n",
    "Features of lists:\n",
    "\n",
    "1. **Ordered** - Lists have a definite order. Items have a defined order, and that order will not change. If you add new items to a list, the new items will be placed at the end of the list.\n",
    "\n",
    "2. **Changeable** - Lists are mutable, meaning we can change their items.\n",
    "\n",
    "3. **Allow duplicates** - Since lists are indexed, they can have items with the same value.\n",
    "\n",
    "Let's look at ways to define and use lists"
   ]
  },
  {
   "cell_type": "code",
   "execution_count": null,
   "outputs": [],
   "source": [
    "# Defining a list\n",
    "fruit_list = [\"apple\", \"banana\", \"cherry\"]\n",
    "print(fruit_list)\n",
    "\n",
    "# Accessing elements in a list\n",
    "first_fruit = fruit_list[0]\n",
    "print(first_fruit)  # Output: apple\n",
    "\n",
    "# Changing an element in a list\n",
    "fruit_list[0] = \"pear\"\n",
    "print(fruit_list)  # Output: [\"pear\", \"banana\", \"cherry\"]\n",
    "\n",
    "# Adding an element to the end of a list\n",
    "fruit_list.append(\"mango\")\n",
    "print(fruit_list)  # Output: [\"pear\", \"banana\", \"cherry\", \"mango\"]\n",
    "\n",
    "# Removing an element from a list\n",
    "fruit_list.remove(\"banana\")\n",
    "print(fruit_list)  # Output: [\"pear\", \"cherry\", \"mango\"]"
   ],
   "metadata": {
    "collapsed": false
   },
   "id": "9fc8ad30f9829c8a"
  },
  {
   "cell_type": "markdown",
   "source": [
    "Changing items by index\n",
    "What will happen if index is wrong? =)"
   ],
   "metadata": {
    "collapsed": false
   },
   "id": "6caf8d77c877d313"
  },
  {
   "cell_type": "code",
   "execution_count": null,
   "outputs": [],
   "source": [
    "fruit_list = [\"apple\", \"banana\", \"cherry\"]\n",
    "index_to_change = 100\n",
    "new_value = \"pear\"\n",
    "\n",
    "# Check if the index_to_change exists in the list\n",
    "if index_to_change < len(fruit_list):\n",
    "    fruit_list[index_to_change] = new_value\n",
    "    print(fruit_list)\n",
    "else:\n",
    "    print(\"Index is out of range!\")"
   ],
   "metadata": {
    "collapsed": false
   },
   "id": "db0a14a957a27f98"
  },
  {
   "cell_type": "markdown",
   "id": "2f176e8479f635ac",
   "metadata": {
    "collapsed": false
   },
   "source": [
    "append(): Adds an element at the end of the list."
   ]
  },
  {
   "cell_type": "code",
   "execution_count": null,
   "id": "d2c70264176e874",
   "metadata": {
    "collapsed": false
   },
   "outputs": [],
   "source": [
    "my_list = ['a', 'b', 'c'] \n",
    "my_list.append('d') \n",
    "print(my_list) # ['a', 'b', 'c', 'd']"
   ]
  },
  {
   "cell_type": "markdown",
   "source": [
    "how to access an item at a specific location in the list:"
   ],
   "metadata": {
    "collapsed": false
   },
   "id": "2b9db5f844c3eef9"
  },
  {
   "cell_type": "code",
   "execution_count": null,
   "outputs": [],
   "source": [
    "my_list = ['a', 'b', 'c'] \n",
    "print(my_list[0])"
   ],
   "metadata": {
    "collapsed": false
   },
   "id": "4ec789d4c0a5a5dc"
  },
  {
   "cell_type": "markdown",
   "id": "922f2a0a1cb90e66",
   "metadata": {
    "collapsed": false
   },
   "source": [
    "insert(): Adds an element at a specified position in the list."
   ]
  },
  {
   "cell_type": "code",
   "execution_count": null,
   "id": "1c6e8d6faf0abad",
   "metadata": {
    "collapsed": false
   },
   "outputs": [],
   "source": [
    "my_list = ['a', 'b', 'd'] \n",
    "my_list.insert(2, 'c') # Insert 'c' at index 2\n",
    "print(my_list) # ['a', 'b', 'c', 'd'] "
   ]
  },
  {
   "cell_type": "markdown",
   "id": "41aa5904cc99933c",
   "metadata": {
    "collapsed": false
   },
   "source": [
    "extend(): Adds multiple elements at the end of the list (concatenate lists)."
   ]
  },
  {
   "cell_type": "code",
   "execution_count": null,
   "id": "932caf3e1d67a332",
   "metadata": {
    "collapsed": false
   },
   "outputs": [],
   "source": [
    "my_list = ['a', 'b'] \n",
    "my_list.extend(['c', 'd']) \n",
    "print(my_list)"
   ]
  },
  {
   "cell_type": "markdown",
   "id": "31ccf2da18ccabc1",
   "metadata": {
    "collapsed": false
   },
   "source": [
    "remove(): Removes an item with the specified value from the list."
   ]
  },
  {
   "cell_type": "code",
   "execution_count": null,
   "id": "c39687f46615579e",
   "metadata": {
    "collapsed": false
   },
   "outputs": [],
   "source": [
    "my_list = ['a', 'b', 'c', 'd'] \n",
    "my_list.remove('b') \n",
    "print(my_list) "
   ]
  },
  {
   "cell_type": "code",
   "execution_count": 1,
   "outputs": [
    {
     "name": "stdout",
     "output_type": "stream",
     "text": [
      "'banana' not found in the list.\n"
     ]
    }
   ],
   "source": [
    "fruit_list = [\"apple\", \"cherry\"]\n",
    "fruit_to_remove = \"banana\"\n",
    "\n",
    "if fruit_to_remove in fruit_list:\n",
    "    fruit_list.remove(fruit_to_remove)\n",
    "    print(fruit_list)\n",
    "else:\n",
    "    print(f\"'{fruit_to_remove}' not found in the list.\")"
   ],
   "metadata": {
    "collapsed": false,
    "ExecuteTime": {
     "end_time": "2023-12-16T19:18:17.745712500Z",
     "start_time": "2023-12-16T19:18:17.738789600Z"
    }
   },
   "id": "2cea92db56342865"
  },
  {
   "cell_type": "markdown",
   "id": "3e35af152e3a2317",
   "metadata": {
    "collapsed": false
   },
   "source": [
    "pop(): Removes an item from the list at a specified index, and return this item."
   ]
  },
  {
   "cell_type": "code",
   "execution_count": null,
   "id": "e45242a48021fc89",
   "metadata": {
    "collapsed": false
   },
   "outputs": [],
   "source": [
    "my_list = ['a', 'b', 'c', 'd'] \n",
    "item = my_list.pop(1) \n",
    "print(item)\n",
    "print(my_list)"
   ]
  },
  {
   "cell_type": "code",
   "execution_count": 3,
   "outputs": [
    {
     "name": "stdout",
     "output_type": "stream",
     "text": [
      "Original List: [1, 2, 3, 4, 5]\n",
      "Popped Element: 5\n",
      "List after pop operation: [1, 2, 3, 4]\n"
     ]
    }
   ],
   "source": [
    "my_list = [1, 2, 3, 4, 5]\n",
    "print(\"Original List:\", my_list)\n",
    "\n",
    "# using the pop function without index\n",
    "popped_element = my_list.pop()\n",
    "print(\"Popped Element:\", popped_element)\n",
    "print(\"List after pop operation:\", my_list)"
   ],
   "metadata": {
    "collapsed": false,
    "ExecuteTime": {
     "end_time": "2023-12-16T18:17:46.266742400Z",
     "start_time": "2023-12-16T18:17:46.248677100Z"
    }
   },
   "id": "2e06dce5dbec2822"
  },
  {
   "cell_type": "markdown",
   "id": "df08b8278ae58eb4",
   "metadata": {
    "collapsed": false
   },
   "source": [
    "del: This keyword in python is used to delete part of the list"
   ]
  },
  {
   "cell_type": "code",
   "execution_count": null,
   "id": "dc91aa9543ba82d9",
   "metadata": {
    "collapsed": false
   },
   "outputs": [],
   "source": [
    "my_list = ['a', 'b', 'c', 'd'] \n",
    "del my_list[1] # Remove the item at index 1\n",
    "print(my_list) # ['a', 'c', 'd'] "
   ]
  },
  {
   "cell_type": "code",
   "execution_count": 9,
   "outputs": [
    {
     "name": "stdout",
     "output_type": "stream",
     "text": [
      "[2, 3, 4]\n"
     ]
    }
   ],
   "source": [
    "my_list = [1, 2, 3, 4, 5] \n",
    "del my_list[-1]\n",
    "del my_list[0]\n",
    "print(my_list)"
   ],
   "metadata": {
    "collapsed": false,
    "ExecuteTime": {
     "end_time": "2023-12-16T18:20:55.624376200Z",
     "start_time": "2023-12-16T18:20:55.619680500Z"
    }
   },
   "id": "75312eb37dbbb381"
  },
  {
   "cell_type": "markdown",
   "id": "46d82353213fa39d",
   "metadata": {
    "collapsed": false
   },
   "source": [
    "To delete an entire list in Python, we can use the del statement as follows:"
   ]
  },
  {
   "cell_type": "code",
   "execution_count": null,
   "id": "3116d51f42e0c48",
   "metadata": {
    "collapsed": false
   },
   "outputs": [],
   "source": [
    "my_list = ['a', 'b', 'c', 'd']\n",
    "del my_list"
   ]
  },
  {
   "cell_type": "markdown",
   "id": "c77fae046b35dc73",
   "metadata": {
    "collapsed": false
   },
   "source": [
    "If we want to keep the list but just remove all the elements from it (so it becomes an empty list),\n",
    "we can use the clear() method:"
   ]
  },
  {
   "cell_type": "code",
   "execution_count": null,
   "id": "7b25c3cedb69ad4a",
   "metadata": {
    "collapsed": false
   },
   "outputs": [],
   "source": [
    "my_list = ['a', 'b', 'c', 'd']\n",
    "my_list.clear()\n",
    "print(my_list) "
   ]
  },
  {
   "cell_type": "markdown",
   "source": [
    "We can access elements from a list by their index. \n",
    "Indexes in Python start from 0, so the second item will have an index of 1.\n",
    "Here's an example:"
   ],
   "metadata": {
    "collapsed": false
   },
   "id": "1bca74f59cff1c57"
  },
  {
   "cell_type": "code",
   "execution_count": 11,
   "outputs": [
    {
     "name": "stdout",
     "output_type": "stream",
     "text": [
      "b\n"
     ]
    }
   ],
   "source": [
    "my_list = ['a', 'b', 'c', 'd']\n",
    "print(my_list[1]) "
   ],
   "metadata": {
    "collapsed": false,
    "ExecuteTime": {
     "end_time": "2023-12-16T18:00:23.895441900Z",
     "start_time": "2023-12-16T18:00:23.892437900Z"
    }
   },
   "id": "b707170b59ad9fb5"
  },
  {
   "cell_type": "markdown",
   "source": [
    "To print elements and their positions (indexes) from a list, we could also use the enumerate() function. \n",
    "Here is an example:"
   ],
   "metadata": {
    "collapsed": false
   },
   "id": "3ac9e31dd24e3ea7"
  },
  {
   "cell_type": "code",
   "execution_count": 12,
   "outputs": [
    {
     "name": "stdout",
     "output_type": "stream",
     "text": [
      "Element at index 0 is a\n",
      "Element at index 1 is b\n",
      "Element at index 2 is c\n",
      "Element at index 3 is d\n"
     ]
    }
   ],
   "source": [
    "my_list = ['a', 'b', 'c', 'd']\n",
    "\n",
    "for index, element in enumerate(my_list):\n",
    "    print(f'Element at index {index} is {element}')"
   ],
   "metadata": {
    "collapsed": false,
    "ExecuteTime": {
     "end_time": "2023-12-16T18:00:28.781142200Z",
     "start_time": "2023-12-16T18:00:28.776138500Z"
    }
   },
   "id": "2d7300c957c30871"
  },
  {
   "cell_type": "markdown",
   "source": [],
   "metadata": {
    "collapsed": false
   },
   "id": "403bba20e6a87a65"
  }
 ],
 "metadata": {
  "kernelspec": {
   "display_name": "Python 3 (ipykernel)",
   "language": "python",
   "name": "python3"
  },
  "language_info": {
   "codemirror_mode": {
    "name": "ipython",
    "version": 3
   },
   "file_extension": ".py",
   "mimetype": "text/x-python",
   "name": "python",
   "nbconvert_exporter": "python",
   "pygments_lexer": "ipython3",
   "version": "3.12.0"
  }
 },
 "nbformat": 4,
 "nbformat_minor": 5
}
